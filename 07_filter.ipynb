{
 "cells": [
  {
   "cell_type": "code",
   "execution_count": 1,
   "metadata": {},
   "outputs": [
    {
     "data": {
      "text/plain": [
       "[6, 7, 8, 9]"
      ]
     },
     "execution_count": 1,
     "metadata": {},
     "output_type": "execute_result"
    }
   ],
   "source": [
    "lista = [0, 1, 2, 3, 4, 5, 6, 7, 8, 9]\n",
    "\n",
    "nova_lista = filter(lambda x: x > 5, lista)\n",
    "\n",
    "list(nova_lista)"
   ]
  },
  {
   "cell_type": "code",
   "execution_count": 3,
   "metadata": {},
   "outputs": [
    {
     "data": {
      "text/plain": [
       "[{'nome': 'p1', 'valor': 22},\n",
       " {'nome': 'p2', 'valor': 8},\n",
       " {'nome': 'p3', 'valor': 19},\n",
       " {'nome': 'p4', 'valor': 13},\n",
       " {'nome': 'p5', 'valor': 16},\n",
       " {'nome': 'p8', 'valor': 1}]"
      ]
     },
     "execution_count": 3,
     "metadata": {},
     "output_type": "execute_result"
    }
   ],
   "source": [
    "produtos = [\n",
    "        {'nome': 'p0', 'valor': 32},\n",
    "        {'nome': 'p1', 'valor': 22},\n",
    "        {'nome': 'p2', 'valor': 8},\n",
    "        {'nome': 'p3', 'valor': 19},\n",
    "        {'nome': 'p4', 'valor': 13},\n",
    "        {'nome': 'p5', 'valor': 16},\n",
    "        {'nome': 'p6', 'valor': 56},\n",
    "        {'nome': 'p7', 'valor': 87},\n",
    "        {'nome': 'p8', 'valor': 1},\n",
    "        {'nome': 'p9', 'valor': 32}    \n",
    "        ]\n",
    "    \n",
    "produtos_baratos = filter(lambda p: p['valor'] < 30, produtos)\n",
    "\n",
    "list(produtos_baratos)"
   ]
  },
  {
   "cell_type": "code",
   "execution_count": 6,
   "metadata": {},
   "outputs": [
    {
     "data": {
      "text/plain": [
       "[{'nome': 'Rafael', 'idade': 28},\n",
       " {'nome': 'Juliana', 'idade': 24},\n",
       " {'nome': 'Bernardo', 'idade': 7},\n",
       " {'nome': 'Kali', 'idade': 3},\n",
       " {'nome': 'Gamora', 'idade': 2},\n",
       " {'nome': 'Bonitinho', 'idade': 10}]"
      ]
     },
     "execution_count": 6,
     "metadata": {},
     "output_type": "execute_result"
    }
   ],
   "source": [
    "pessoas = [\n",
    "        {'nome': 'Rafael', 'idade': 28},\n",
    "        {'nome': 'Juliana', 'idade': 24},\n",
    "        {'nome': 'Bernardo', 'idade': 7},\n",
    "        {'nome': 'Kali', 'idade': 3},\n",
    "        {'nome': 'Gamora', 'idade': 2},\n",
    "        {'nome': 'Bonitinho', 'idade': 10},\n",
    "        {'nome': 'Outros', 'idade': 1},\n",
    "        {'nome': 'Outros', 'idade': 2},\n",
    "        {'nome': 'Outros', 'idade': 3},\n",
    "        {'nome': 'Outros', 'idade': 4},\n",
    "]\n",
    "\n",
    "familia = ['Rafael', 'Juliana', 'Bernardo', 'Kali', 'Gamora']\n",
    "\n",
    "pessoas_familia = filter(lambda f: f['nome'] != 'Outros', pessoas)\n",
    "\n",
    "list(pessoas_familia)"
   ]
  },
  {
   "cell_type": "code",
   "execution_count": null,
   "metadata": {},
   "outputs": [],
   "source": []
  }
 ],
 "metadata": {
  "interpreter": {
   "hash": "064474025040b7a2848d9f404ce52a538e282a153e96029ceab87ae3e7bcada8"
  },
  "kernelspec": {
   "display_name": "Python 3.10.2 ('env_estudos')",
   "language": "python",
   "name": "python3"
  },
  "language_info": {
   "codemirror_mode": {
    "name": "ipython",
    "version": 3
   },
   "file_extension": ".py",
   "mimetype": "text/x-python",
   "name": "python",
   "nbconvert_exporter": "python",
   "pygments_lexer": "ipython3",
   "version": "3.10.2"
  },
  "orig_nbformat": 4
 },
 "nbformat": 4,
 "nbformat_minor": 2
}
