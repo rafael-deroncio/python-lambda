{
 "cells": [
  {
   "cell_type": "markdown",
   "metadata": {},
   "source": [
    "**Sobre o método map()**\n",
    "\n",
    "-***Método usado*** – map()\n",
    "\n",
    "-***O que faz*** – aplica a função dada ao iterável especificado.\n",
    "\n",
    "-***Número de parâmetros necessários*** - 2 (ambos são obrigatórios)\n",
    "\n",
    "-***Tipo de Retorno*** – map() Tipo Objeto | Simplesmente os resultados que são obtidos após a aplicação da função especificada."
   ]
  },
  {
   "cell_type": "code",
   "execution_count": null,
   "metadata": {},
   "outputs": [],
   "source": [
    "numeros = (1, 2, 3, 4, 5)\n",
    "\n",
    "sum_cinco = map(lambda n: n+5, numeros)\n",
    "\n",
    "list(sum_cinco)"
   ]
  },
  {
   "cell_type": "code",
   "execution_count": null,
   "metadata": {},
   "outputs": [],
   "source": [
    "list1 = [1, 2, 3]\n",
    "list2 = [4, 5, 6]\n",
    "\n",
    "results = map(lambda l1, l2: l1 * l2, list1, list2)\n",
    "\n",
    "list(results)\n",
    "# >>> [4, 10, 18]"
   ]
  },
  {
   "cell_type": "code",
   "execution_count": null,
   "metadata": {},
   "outputs": [],
   "source": [
    "lista = [0, 1, 2, 3, 4, 5, 6, 7, 8, 9]\n",
    "\n",
    "nova_lista = map(lambda x: x**2, lista)\n",
    "\n",
    "list(nova_lista)"
   ]
  },
  {
   "cell_type": "code",
   "execution_count": null,
   "metadata": {},
   "outputs": [],
   "source": [
    "produtos = [\n",
    "        {'nome': 'p0', 'valor': 32},\n",
    "        {'nome': 'p1', 'valor': 22},\n",
    "        {'nome': 'p2', 'valor': 8},\n",
    "        {'nome': 'p3', 'valor': 19},\n",
    "        {'nome': 'p4', 'valor': 13},\n",
    "        {'nome': 'p5', 'valor': 16},\n",
    "        {'nome': 'p6', 'valor': 56},\n",
    "        {'nome': 'p7', 'valor': 87},\n",
    "        {'nome': 'p8', 'valor': 1},\n",
    "        {'nome': 'p9', 'valor': 32}    \n",
    "        ]\n",
    "\n",
    "def aumenta_preco(p):\n",
    "        p['valor_c_aum'] = round(p['valor'] * 1.05, 2)\n",
    "        return p\n",
    "\n",
    "novos_produtos = map(aumenta_preco, produtos)\n",
    "\n",
    "for produto in novos_produtos:\n",
    "        print(produto)"
   ]
  },
  {
   "cell_type": "code",
   "execution_count": null,
   "metadata": {},
   "outputs": [],
   "source": [
    "pessoas = [\n",
    "        {'nome': 'Rafael', 'idade': 28},\n",
    "        {'nome': 'Juliana', 'idade': 24},\n",
    "        {'nome': 'Bernardo', 'idade': 7},\n",
    "        {'nome': 'Kali', 'idade': 3},\n",
    "        {'nome': 'Gamora', 'idade': 2},\n",
    "        {'nome': 'Bonitinho', 'idade': 10},\n",
    "        {'nome': 'filho1', 'idade': 1},\n",
    "        {'nome': 'filho2', 'idade': 2},\n",
    "        {'nome': 'filho3', 'idade': 3},\n",
    "        {'nome': 'filho4', 'idade': 4},\n",
    "]\n",
    "\n",
    "nome_pessoas = map(lambda p: p['nome'], pessoas)\n",
    "\n",
    "list(nome_pessoas)"
   ]
  }
 ],
 "metadata": {
  "interpreter": {
   "hash": "064474025040b7a2848d9f404ce52a538e282a153e96029ceab87ae3e7bcada8"
  },
  "kernelspec": {
   "display_name": "Python 3.10.2 ('env_estudos')",
   "language": "python",
   "name": "python3"
  },
  "language_info": {
   "codemirror_mode": {
    "name": "ipython",
    "version": 3
   },
   "file_extension": ".py",
   "mimetype": "text/x-python",
   "name": "python",
   "nbconvert_exporter": "python",
   "pygments_lexer": "ipython3",
   "version": "3.10.2"
  },
  "orig_nbformat": 4
 },
 "nbformat": 4,
 "nbformat_minor": 2
}
