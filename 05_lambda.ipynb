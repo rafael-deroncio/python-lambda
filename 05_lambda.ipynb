{
 "cells": [
  {
   "cell_type": "markdown",
   "metadata": {},
   "source": [
    "*Função do Python Lambda*\n",
    "\n",
    "É uma pequena função que é anônima por natureza . Qualquer número de argumentos pode ser fornecido a uma função do Lambda, mas ela retorna o valor somente de acordo com uma expressão definida. As funções do Lambda são importantes, pois são anônimas e podem ser usadas em outras funções do Python definidas pelo usuário para melhor produtividade. Vamos descobrir mais tarde neste artigo.\n",
    "\n",
    "*Sintaxe*\n",
    "Vamos primeiro dar uma olhada na sintaxe básica de uma função Lambda para entender como ela funciona.\n",
    "\n",
    "result = lambda args : expression"
   ]
  },
  {
   "cell_type": "code",
   "execution_count": 10,
   "metadata": {},
   "outputs": [
    {
     "data": {
      "text/plain": [
       "25"
      ]
     },
     "execution_count": 10,
     "metadata": {},
     "output_type": "execute_result"
    }
   ],
   "source": [
    "# Função Lambda de parâmetro único\n",
    "\n",
    "# Definindo a funcao lambda\n",
    "funcao = lambda x: x * x\n",
    "\n",
    "# Chamando a funcao lambda\n",
    "funcao(5)"
   ]
  },
  {
   "cell_type": "code",
   "execution_count": null,
   "metadata": {},
   "outputs": [],
   "source": [
    "# Função Lambda com vários parâmetros\n",
    "\n",
    "# Definindo a funcao lambda\n",
    "funcao = lambda x, y: x + y\n",
    "\n",
    "# Chamando a funcao lambda\n",
    "funcao(5, 9)"
   ]
  },
  {
   "cell_type": "code",
   "execution_count": 8,
   "metadata": {},
   "outputs": [
    {
     "name": "stdout",
     "output_type": "stream",
     "text": [
      "[['P1', 20], ['P2', 1], ['P3', 21], ['P4', 9]]\n",
      "[['P2', 1], ['P4', 9], ['P1', 20], ['P3', 21]]\n"
     ]
    }
   ],
   "source": [
    "lista = [\n",
    "        ['P1', 20],\n",
    "        ['P2', 1],\n",
    "        ['P3', 21],\n",
    "        ['P4', 9]\n",
    "        ]\n",
    "print(lista)\n",
    "\n",
    "lista.sort(key=lambda i: i[1])\n",
    "\n",
    "print(lista)"
   ]
  }
 ],
 "metadata": {
  "interpreter": {
   "hash": "064474025040b7a2848d9f404ce52a538e282a153e96029ceab87ae3e7bcada8"
  },
  "kernelspec": {
   "display_name": "Python 3.10.2 ('env_estudos')",
   "language": "python",
   "name": "python3"
  },
  "language_info": {
   "codemirror_mode": {
    "name": "ipython",
    "version": 3
   },
   "file_extension": ".py",
   "mimetype": "text/x-python",
   "name": "python",
   "nbconvert_exporter": "python",
   "pygments_lexer": "ipython3",
   "version": "3.10.2"
  },
  "orig_nbformat": 4
 },
 "nbformat": 4,
 "nbformat_minor": 2
}
