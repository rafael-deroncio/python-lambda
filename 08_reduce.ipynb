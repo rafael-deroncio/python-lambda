{
 "cells": [
  {
   "cell_type": "markdown",
   "metadata": {},
   "source": [
    "O Python's reduce() era originalmente uma função integrada (e ainda está no Python 2.x ), mas foi movida para o functools.reduce()Python 3.0 . Essa decisão foi baseada em alguns possíveis problemas de desempenho e legibilidade.\n",
    "\n",
    "functools.reduce(function, iterable[initializer])\n",
    "\n",
    "O primeiro argumento do Python reduce()é uma função de dois argumentos convenientemente chamada function.\n",
    "O segundo argumento obrigatório, iterable, aceitará qualquer iterável do Python, como o próprio nome sugere (listas, tuplas, etc...).\n",
    "O terceiro argumento para Python reduce(), chamado initializer, é opcional."
   ]
  },
  {
   "cell_type": "code",
   "execution_count": 3,
   "metadata": {},
   "outputs": [],
   "source": [
    "from functools import reduce"
   ]
  },
  {
   "cell_type": "code",
   "execution_count": 5,
   "metadata": {},
   "outputs": [
    {
     "data": {
      "text/plain": [
       "45"
      ]
     },
     "execution_count": 5,
     "metadata": {},
     "output_type": "execute_result"
    }
   ],
   "source": [
    "lista = [0, 1, 2, 3, 4, 5, 6, 7, 8, 9]\n",
    "\n",
    "lista_acumulada = reduce(lambda ac, i: i + ac, lista, 0)\n",
    "\n",
    "lista_acumulada"
   ]
  },
  {
   "cell_type": "code",
   "execution_count": 7,
   "metadata": {},
   "outputs": [
    {
     "data": {
      "text/plain": [
       "286"
      ]
     },
     "execution_count": 7,
     "metadata": {},
     "output_type": "execute_result"
    }
   ],
   "source": [
    "produtos = [\n",
    "        {'nome': 'p0', 'valor': 32},\n",
    "        {'nome': 'p1', 'valor': 22},\n",
    "        {'nome': 'p2', 'valor': 8},\n",
    "        {'nome': 'p3', 'valor': 19},\n",
    "        {'nome': 'p4', 'valor': 13},\n",
    "        {'nome': 'p5', 'valor': 16},\n",
    "        {'nome': 'p6', 'valor': 56},\n",
    "        {'nome': 'p7', 'valor': 87},\n",
    "        {'nome': 'p8', 'valor': 1},\n",
    "        {'nome': 'p9', 'valor': 32}    \n",
    "        ]\n",
    "\n",
    "produtos_soma_valor = reduce(lambda ac, p: p['valor'] + ac, produtos, 0)\n",
    "\n",
    "produtos_soma_valor"
   ]
  },
  {
   "cell_type": "code",
   "execution_count": 8,
   "metadata": {},
   "outputs": [
    {
     "data": {
      "text/plain": [
       "84"
      ]
     },
     "execution_count": 8,
     "metadata": {},
     "output_type": "execute_result"
    }
   ],
   "source": [
    "pessoas = [\n",
    "        {'nome': 'Rafael', 'idade': 28},\n",
    "        {'nome': 'Juliana', 'idade': 24},\n",
    "        {'nome': 'Bernardo', 'idade': 7},\n",
    "        {'nome': 'Kali', 'idade': 3},\n",
    "        {'nome': 'Gamora', 'idade': 2},\n",
    "        {'nome': 'Bonitinho', 'idade': 10},\n",
    "        {'nome': 'Outros', 'idade': 1},\n",
    "        {'nome': 'Outros', 'idade': 2},\n",
    "        {'nome': 'Outros', 'idade': 3},\n",
    "        {'nome': 'Outros', 'idade': 4},\n",
    "]\n",
    "\n",
    "pessoas_soma_idade = reduce(lambda ac, x: x['idade'] + ac, pessoas, 0)\n",
    "\n",
    "pessoas_soma_idade"
   ]
  }
 ],
 "metadata": {
  "interpreter": {
   "hash": "064474025040b7a2848d9f404ce52a538e282a153e96029ceab87ae3e7bcada8"
  },
  "kernelspec": {
   "display_name": "Python 3.10.2 ('env_estudos')",
   "language": "python",
   "name": "python3"
  },
  "language_info": {
   "codemirror_mode": {
    "name": "ipython",
    "version": 3
   },
   "file_extension": ".py",
   "mimetype": "text/x-python",
   "name": "python",
   "nbconvert_exporter": "python",
   "pygments_lexer": "ipython3",
   "version": "3.10.2"
  },
  "orig_nbformat": 4
 },
 "nbformat": 4,
 "nbformat_minor": 2
}
